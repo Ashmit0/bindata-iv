{
 "cells": [
  {
   "cell_type": "code",
   "execution_count": 8,
   "metadata": {},
   "outputs": [],
   "source": [
    "import os \n",
    "import yaml \n",
    "import random \n",
    "import pickle\n",
    "import numpy as np \n",
    "import pandas as pd \n",
    "import matplotlib.pyplot as plt \n",
    "\n",
    "from tqdm import tqdm \n",
    "\n",
    "random.seed( 17 )"
   ]
  },
  {
   "cell_type": "code",
   "execution_count": 9,
   "metadata": {},
   "outputs": [
    {
     "data": {
      "text/plain": [
       "{'underlying': 'NSEFNO_BANKNIFTY',\n",
       " 'exp': 'H25',\n",
       " 'start_date': '20250315',\n",
       " 'end_date': '20250319',\n",
       " 'dt': 5,\n",
       " 'parent_dir': '/data/NSE/bindata_indices/'}"
      ]
     },
     "execution_count": 9,
     "metadata": {},
     "output_type": "execute_result"
    }
   ],
   "source": [
    "with open('user_input.yaml', 'r') as f:\n",
    "    inputs = yaml.safe_load(f)\n",
    "inputs "
   ]
  },
  {
   "cell_type": "code",
   "execution_count": 10,
   "metadata": {},
   "outputs": [],
   "source": [
    "from atm_data_lib.base import atm_data "
   ]
  },
  {
   "cell_type": "code",
   "execution_count": 11,
   "metadata": {},
   "outputs": [],
   "source": [
    "query = atm_data( inputs )"
   ]
  },
  {
   "cell_type": "code",
   "execution_count": 12,
   "metadata": {},
   "outputs": [
    {
     "data": {
      "text/plain": [
       "['/data/NSE/bindata_indices/20250317/bin_data_archival_20250317.log',\n",
       " '/data/NSE/bindata_indices/20250318/bin_data_archival_20250318.log',\n",
       " '/data/NSE/bindata_indices/20250319/bin_data_archival_20250319.log']"
      ]
     },
     "execution_count": 12,
     "metadata": {},
     "output_type": "execute_result"
    }
   ],
   "source": [
    "query.dates_log_path"
   ]
  },
  {
   "cell_type": "code",
   "execution_count": 13,
   "metadata": {},
   "outputs": [
    {
     "name": "stdout",
     "output_type": "stream",
     "text": [
      "Initiating Strike Gap Processing:\n"
     ]
    },
    {
     "name": "stderr",
     "output_type": "stream",
     "text": [
      "100%|████████████████████████████████████████████████████| 3/3 [00:01<00:00,  2.49it/s, Processing Strike Gap for 19-03-2025]\n"
     ]
    },
    {
     "name": "stdout",
     "output_type": "stream",
     "text": [
      "Initiating Main DataFrame Processing:\n"
     ]
    },
    {
     "name": "stderr",
     "output_type": "stream",
     "text": [
      "100%|█| 3/3 [02:16<00:00, 45.62s/it, Creating cache/20250319_NSEFNO_BANKNIFTY_H25_dt_5.pickel. This is a one time process ...\n"
     ]
    }
   ],
   "source": [
    "query.load_data()"
   ]
  },
  {
   "cell_type": "code",
   "execution_count": 14,
   "metadata": {},
   "outputs": [
    {
     "data": {
      "text/html": [
       "<div>\n",
       "<style scoped>\n",
       "    .dataframe tbody tr th:only-of-type {\n",
       "        vertical-align: middle;\n",
       "    }\n",
       "\n",
       "    .dataframe tbody tr th {\n",
       "        vertical-align: top;\n",
       "    }\n",
       "\n",
       "    .dataframe thead th {\n",
       "        text-align: right;\n",
       "    }\n",
       "</style>\n",
       "<table border=\"1\" class=\"dataframe\">\n",
       "  <thead>\n",
       "    <tr style=\"text-align: right;\">\n",
       "      <th></th>\n",
       "      <th>Spot</th>\n",
       "      <th>ATM_Strike</th>\n",
       "      <th>PE</th>\n",
       "      <th>CE</th>\n",
       "    </tr>\n",
       "  </thead>\n",
       "  <tbody>\n",
       "    <tr>\n",
       "      <th>2025-03-17 09:16:01</th>\n",
       "      <td>48328.40</td>\n",
       "      <td>48300.0</td>\n",
       "      <td>482.22</td>\n",
       "      <td>494.01</td>\n",
       "    </tr>\n",
       "    <tr>\n",
       "      <th>2025-03-17 09:21:01</th>\n",
       "      <td>48424.52</td>\n",
       "      <td>48400.0</td>\n",
       "      <td>478.06</td>\n",
       "      <td>490.25</td>\n",
       "    </tr>\n",
       "    <tr>\n",
       "      <th>2025-03-17 09:26:01</th>\n",
       "      <td>48446.62</td>\n",
       "      <td>48400.0</td>\n",
       "      <td>457.75</td>\n",
       "      <td>501.82</td>\n",
       "    </tr>\n",
       "    <tr>\n",
       "      <th>2025-03-17 09:31:01</th>\n",
       "      <td>48505.08</td>\n",
       "      <td>48500.0</td>\n",
       "      <td>477.73</td>\n",
       "      <td>464.73</td>\n",
       "    </tr>\n",
       "    <tr>\n",
       "      <th>2025-03-17 09:36:01</th>\n",
       "      <td>48469.23</td>\n",
       "      <td>48500.0</td>\n",
       "      <td>490.53</td>\n",
       "      <td>455.73</td>\n",
       "    </tr>\n",
       "    <tr>\n",
       "      <th>...</th>\n",
       "      <td>...</td>\n",
       "      <td>...</td>\n",
       "      <td>...</td>\n",
       "      <td>...</td>\n",
       "    </tr>\n",
       "    <tr>\n",
       "      <th>2025-03-19 15:06:01</th>\n",
       "      <td>49776.06</td>\n",
       "      <td>49800.0</td>\n",
       "      <td>411.75</td>\n",
       "      <td>374.41</td>\n",
       "    </tr>\n",
       "    <tr>\n",
       "      <th>2025-03-19 15:11:01</th>\n",
       "      <td>49805.05</td>\n",
       "      <td>49800.0</td>\n",
       "      <td>401.20</td>\n",
       "      <td>390.45</td>\n",
       "    </tr>\n",
       "    <tr>\n",
       "      <th>2025-03-19 15:16:01</th>\n",
       "      <td>49803.84</td>\n",
       "      <td>49800.0</td>\n",
       "      <td>407.57</td>\n",
       "      <td>394.41</td>\n",
       "    </tr>\n",
       "    <tr>\n",
       "      <th>2025-03-19 15:21:01</th>\n",
       "      <td>49804.80</td>\n",
       "      <td>49800.0</td>\n",
       "      <td>405.63</td>\n",
       "      <td>394.85</td>\n",
       "    </tr>\n",
       "    <tr>\n",
       "      <th>2025-03-19 15:26:01</th>\n",
       "      <td>49817.01</td>\n",
       "      <td>49800.0</td>\n",
       "      <td>396.03</td>\n",
       "      <td>401.32</td>\n",
       "    </tr>\n",
       "  </tbody>\n",
       "</table>\n",
       "<p>225 rows × 4 columns</p>\n",
       "</div>"
      ],
      "text/plain": [
       "                         Spot  ATM_Strike      PE      CE\n",
       "2025-03-17 09:16:01  48328.40     48300.0  482.22  494.01\n",
       "2025-03-17 09:21:01  48424.52     48400.0  478.06  490.25\n",
       "2025-03-17 09:26:01  48446.62     48400.0  457.75  501.82\n",
       "2025-03-17 09:31:01  48505.08     48500.0  477.73  464.73\n",
       "2025-03-17 09:36:01  48469.23     48500.0  490.53  455.73\n",
       "...                       ...         ...     ...     ...\n",
       "2025-03-19 15:06:01  49776.06     49800.0  411.75  374.41\n",
       "2025-03-19 15:11:01  49805.05     49800.0  401.20  390.45\n",
       "2025-03-19 15:16:01  49803.84     49800.0  407.57  394.41\n",
       "2025-03-19 15:21:01  49804.80     49800.0  405.63  394.85\n",
       "2025-03-19 15:26:01  49817.01     49800.0  396.03  401.32\n",
       "\n",
       "[225 rows x 4 columns]"
      ]
     },
     "execution_count": 14,
     "metadata": {},
     "output_type": "execute_result"
    }
   ],
   "source": [
    "query.main_df"
   ]
  }
 ],
 "metadata": {
  "kernelspec": {
   "display_name": "Algoquant",
   "language": "python",
   "name": "python3"
  },
  "language_info": {
   "codemirror_mode": {
    "name": "ipython",
    "version": 3
   },
   "file_extension": ".py",
   "mimetype": "text/x-python",
   "name": "python",
   "nbconvert_exporter": "python",
   "pygments_lexer": "ipython3",
   "version": "3.10.16"
  },
  "orig_nbformat": 4,
  "vscode": {
   "interpreter": {
    "hash": "afcc515386c5f6c52dcc1222c04116b1214902c628c69bf0d33568b4a5ec42b2"
   }
  }
 },
 "nbformat": 4,
 "nbformat_minor": 2
}
