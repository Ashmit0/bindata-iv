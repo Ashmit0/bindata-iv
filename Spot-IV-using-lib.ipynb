{
 "cells": [
  {
   "cell_type": "code",
   "execution_count": 1,
   "metadata": {},
   "outputs": [],
   "source": [
    "import os \n",
    "import yaml \n",
    "import random \n",
    "import pickle\n",
    "import numpy as np \n",
    "import pandas as pd \n",
    "import matplotlib.pyplot as plt \n",
    "\n",
    "from tqdm import tqdm \n",
    "\n",
    "random.seed( 17 )"
   ]
  },
  {
   "cell_type": "code",
   "execution_count": 2,
   "metadata": {},
   "outputs": [
    {
     "data": {
      "text/plain": [
       "{'underlying': 'NSEFNO_BANKNIFTY',\n",
       " 'exp': 'H25',\n",
       " 'start_date': '20250315',\n",
       " 'end_date': '20250319',\n",
       " 'dt': 5,\n",
       " 'parent_dir': '/data/NSE/bindata_indices/',\n",
       " 'r': 6.5,\n",
       " 'outfile': 'result.csv'}"
      ]
     },
     "execution_count": 2,
     "metadata": {},
     "output_type": "execute_result"
    }
   ],
   "source": [
    "with open('user_input.yaml', 'r') as f:\n",
    "    inputs = yaml.safe_load(f)\n",
    "inputs "
   ]
  },
  {
   "cell_type": "code",
   "execution_count": 3,
   "metadata": {},
   "outputs": [],
   "source": [
    "from atm_data_lib.base import atm_data "
   ]
  },
  {
   "cell_type": "code",
   "execution_count": 4,
   "metadata": {},
   "outputs": [],
   "source": [
    "query = atm_data( inputs )"
   ]
  },
  {
   "cell_type": "code",
   "execution_count": 5,
   "metadata": {},
   "outputs": [
    {
     "data": {
      "text/plain": [
       "['/data/NSE/bindata_indices/20250317/bin_data_archival_20250317.log',\n",
       " '/data/NSE/bindata_indices/20250318/bin_data_archival_20250318.log',\n",
       " '/data/NSE/bindata_indices/20250319/bin_data_archival_20250319.log']"
      ]
     },
     "execution_count": 5,
     "metadata": {},
     "output_type": "execute_result"
    }
   ],
   "source": [
    "query.dates_log_path"
   ]
  },
  {
   "cell_type": "code",
   "execution_count": 6,
   "metadata": {},
   "outputs": [
    {
     "name": "stdout",
     "output_type": "stream",
     "text": [
      "Initiating Strike Gap Processing:\n"
     ]
    },
    {
     "name": "stderr",
     "output_type": "stream",
     "text": [
      "100%|████████████████████████████████████████████████████| 3/3 [00:01<00:00,  2.68it/s, Processing Strike Gap for 19-03-2025]\n"
     ]
    },
    {
     "name": "stdout",
     "output_type": "stream",
     "text": [
      "Initiating Main DataFrame Processing:\n"
     ]
    },
    {
     "name": "stderr",
     "output_type": "stream",
     "text": [
      "100%|████████████████████████████████████████████████████████████████████████████████████████| 3/3 [00:00<00:00, 1659.14it/s]\n"
     ]
    }
   ],
   "source": [
    "query.load_data()"
   ]
  },
  {
   "cell_type": "code",
   "execution_count": 7,
   "metadata": {},
   "outputs": [
    {
     "data": {
      "text/html": [
       "<div>\n",
       "<style scoped>\n",
       "    .dataframe tbody tr th:only-of-type {\n",
       "        vertical-align: middle;\n",
       "    }\n",
       "\n",
       "    .dataframe tbody tr th {\n",
       "        vertical-align: top;\n",
       "    }\n",
       "\n",
       "    .dataframe thead th {\n",
       "        text-align: right;\n",
       "    }\n",
       "</style>\n",
       "<table border=\"1\" class=\"dataframe\">\n",
       "  <thead>\n",
       "    <tr style=\"text-align: right;\">\n",
       "      <th></th>\n",
       "      <th>Spot</th>\n",
       "      <th>CE_IV</th>\n",
       "      <th>PE_IV</th>\n",
       "    </tr>\n",
       "    <tr>\n",
       "      <th>TimeStamp</th>\n",
       "      <th></th>\n",
       "      <th></th>\n",
       "      <th></th>\n",
       "    </tr>\n",
       "  </thead>\n",
       "  <tbody>\n",
       "    <tr>\n",
       "      <th>2025-03-17 09:16:01</th>\n",
       "      <td>48328.40</td>\n",
       "      <td>14.364848</td>\n",
       "      <td>14.860734</td>\n",
       "    </tr>\n",
       "    <tr>\n",
       "      <th>2025-03-17 09:21:01</th>\n",
       "      <td>48424.52</td>\n",
       "      <td>14.282247</td>\n",
       "      <td>14.649384</td>\n",
       "    </tr>\n",
       "    <tr>\n",
       "      <th>2025-03-17 09:26:01</th>\n",
       "      <td>48446.62</td>\n",
       "      <td>14.287388</td>\n",
       "      <td>14.360909</td>\n",
       "    </tr>\n",
       "    <tr>\n",
       "      <th>2025-03-17 09:31:01</th>\n",
       "      <td>48505.08</td>\n",
       "      <td>13.786617</td>\n",
       "      <td>14.325658</td>\n",
       "    </tr>\n",
       "    <tr>\n",
       "      <th>2025-03-17 09:36:01</th>\n",
       "      <td>48469.23</td>\n",
       "      <td>14.052378</td>\n",
       "      <td>14.174477</td>\n",
       "    </tr>\n",
       "    <tr>\n",
       "      <th>...</th>\n",
       "      <td>...</td>\n",
       "      <td>...</td>\n",
       "      <td>...</td>\n",
       "    </tr>\n",
       "    <tr>\n",
       "      <th>2025-03-19 15:06:01</th>\n",
       "      <td>49776.06</td>\n",
       "      <td>12.403775</td>\n",
       "      <td>12.835474</td>\n",
       "    </tr>\n",
       "    <tr>\n",
       "      <th>2025-03-19 15:11:01</th>\n",
       "      <td>49805.05</td>\n",
       "      <td>12.454124</td>\n",
       "      <td>12.961140</td>\n",
       "    </tr>\n",
       "    <tr>\n",
       "      <th>2025-03-19 15:16:01</th>\n",
       "      <td>49803.84</td>\n",
       "      <td>12.600880</td>\n",
       "      <td>13.146490</td>\n",
       "    </tr>\n",
       "    <tr>\n",
       "      <th>2025-03-19 15:21:01</th>\n",
       "      <td>49804.80</td>\n",
       "      <td>12.599445</td>\n",
       "      <td>13.099412</td>\n",
       "    </tr>\n",
       "    <tr>\n",
       "      <th>2025-03-19 15:26:01</th>\n",
       "      <td>49817.01</td>\n",
       "      <td>12.608206</td>\n",
       "      <td>12.983619</td>\n",
       "    </tr>\n",
       "  </tbody>\n",
       "</table>\n",
       "<p>225 rows × 3 columns</p>\n",
       "</div>"
      ],
      "text/plain": [
       "                         Spot      CE_IV      PE_IV\n",
       "TimeStamp                                          \n",
       "2025-03-17 09:16:01  48328.40  14.364848  14.860734\n",
       "2025-03-17 09:21:01  48424.52  14.282247  14.649384\n",
       "2025-03-17 09:26:01  48446.62  14.287388  14.360909\n",
       "2025-03-17 09:31:01  48505.08  13.786617  14.325658\n",
       "2025-03-17 09:36:01  48469.23  14.052378  14.174477\n",
       "...                       ...        ...        ...\n",
       "2025-03-19 15:06:01  49776.06  12.403775  12.835474\n",
       "2025-03-19 15:11:01  49805.05  12.454124  12.961140\n",
       "2025-03-19 15:16:01  49803.84  12.600880  13.146490\n",
       "2025-03-19 15:21:01  49804.80  12.599445  13.099412\n",
       "2025-03-19 15:26:01  49817.01  12.608206  12.983619\n",
       "\n",
       "[225 rows x 3 columns]"
      ]
     },
     "execution_count": 7,
     "metadata": {},
     "output_type": "execute_result"
    }
   ],
   "source": [
    "query.main_df"
   ]
  }
 ],
 "metadata": {
  "kernelspec": {
   "display_name": "Algoquant",
   "language": "python",
   "name": "python3"
  },
  "language_info": {
   "codemirror_mode": {
    "name": "ipython",
    "version": 3
   },
   "file_extension": ".py",
   "mimetype": "text/x-python",
   "name": "python",
   "nbconvert_exporter": "python",
   "pygments_lexer": "ipython3",
   "version": "3.10.16"
  },
  "orig_nbformat": 4,
  "vscode": {
   "interpreter": {
    "hash": "afcc515386c5f6c52dcc1222c04116b1214902c628c69bf0d33568b4a5ec42b2"
   }
  }
 },
 "nbformat": 4,
 "nbformat_minor": 2
}
